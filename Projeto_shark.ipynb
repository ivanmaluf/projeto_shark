{
 "cells": [
  {
   "cell_type": "markdown",
   "metadata": {},
   "source": [
    "# Baixar as bibliotecas"
   ]
  },
  {
   "cell_type": "code",
   "execution_count": 3,
   "metadata": {
    "ExecuteTime": {
     "end_time": "2020-11-03T17:34:17.773275Z",
     "start_time": "2020-11-03T17:34:17.189510Z"
    }
   },
   "outputs": [],
   "source": [
    "import pandas as pd"
   ]
  },
  {
   "cell_type": "code",
   "execution_count": 4,
   "metadata": {
    "ExecuteTime": {
     "end_time": "2020-11-03T17:34:17.854952Z",
     "start_time": "2020-11-03T17:34:17.846578Z"
    }
   },
   "outputs": [],
   "source": [
    "import numpy as np\n",
    "import re"
   ]
  },
  {
   "cell_type": "markdown",
   "metadata": {},
   "source": [
    "# Baixar o dataframe original\n",
    "\n",
    "  Rodar as rotinas básicas para conhecer as informações"
   ]
  },
  {
   "cell_type": "code",
   "execution_count": 5,
   "metadata": {
    "ExecuteTime": {
     "end_time": "2020-11-03T17:34:18.690830Z",
     "start_time": "2020-11-03T17:34:18.468902Z"
    }
   },
   "outputs": [],
   "source": [
    "shark = pd.read_csv('./shark_attacks.csv', encoding=\"latin1\", sep=\",\" )"
   ]
  },
  {
   "cell_type": "code",
   "execution_count": 30,
   "metadata": {
    "ExecuteTime": {
     "end_time": "2020-11-04T11:34:16.131351Z",
     "start_time": "2020-11-04T11:34:16.122859Z"
    }
   },
   "outputs": [
    {
     "data": {
      "text/plain": [
       "(25723, 24)"
      ]
     },
     "execution_count": 30,
     "metadata": {},
     "output_type": "execute_result"
    }
   ],
   "source": [
    "shark.shape"
   ]
  },
  {
   "cell_type": "code",
   "execution_count": 134,
   "metadata": {
    "ExecuteTime": {
     "end_time": "2020-11-04T14:43:04.743179Z",
     "start_time": "2020-11-04T14:43:04.609430Z"
    }
   },
   "outputs": [
    {
     "name": "stdout",
     "output_type": "stream",
     "text": [
      "<class 'pandas.core.frame.DataFrame'>\n",
      "RangeIndex: 25723 entries, 0 to 25722\n",
      "Data columns (total 24 columns):\n",
      " #   Column                  Non-Null Count  Dtype  \n",
      "---  ------                  --------------  -----  \n",
      " 0   Case Number             8702 non-null   object \n",
      " 1   Date                    6302 non-null   object \n",
      " 2   Year                    6300 non-null   float64\n",
      " 3   Type                    6298 non-null   object \n",
      " 4   Country                 6252 non-null   object \n",
      " 5   Area                    5847 non-null   object \n",
      " 6   Location                5762 non-null   object \n",
      " 7   Activity                5758 non-null   object \n",
      " 8   Name                    6092 non-null   object \n",
      " 9   Sex                     5737 non-null   object \n",
      " 10  Age                     3471 non-null   object \n",
      " 11  Injury                  6274 non-null   object \n",
      " 12  Fatal (Y/N)             5763 non-null   object \n",
      " 13  Time                    2948 non-null   object \n",
      " 14  Species                 3464 non-null   object \n",
      " 15  Investigator or Source  6285 non-null   object \n",
      " 16  pdf                     6302 non-null   object \n",
      " 17  href formula            6301 non-null   object \n",
      " 18  href                    6302 non-null   object \n",
      " 19  Case Number.1           6302 non-null   object \n",
      " 20  Case Number.2           6302 non-null   object \n",
      " 21  original order          6309 non-null   float64\n",
      " 22  Unnamed: 22             1 non-null      object \n",
      " 23  Unnamed: 23             2 non-null      object \n",
      "dtypes: float64(2), object(22)\n",
      "memory usage: 4.7+ MB\n"
     ]
    }
   ],
   "source": [
    "shark.info()"
   ]
  },
  {
   "cell_type": "code",
   "execution_count": 31,
   "metadata": {
    "ExecuteTime": {
     "end_time": "2020-11-04T11:34:31.007422Z",
     "start_time": "2020-11-04T11:34:30.966272Z"
    },
    "scrolled": false
   },
   "outputs": [
    {
     "data": {
      "text/html": [
       "<div>\n",
       "<style scoped>\n",
       "    .dataframe tbody tr th:only-of-type {\n",
       "        vertical-align: middle;\n",
       "    }\n",
       "\n",
       "    .dataframe tbody tr th {\n",
       "        vertical-align: top;\n",
       "    }\n",
       "\n",
       "    .dataframe thead th {\n",
       "        text-align: right;\n",
       "    }\n",
       "</style>\n",
       "<table border=\"1\" class=\"dataframe\">\n",
       "  <thead>\n",
       "    <tr style=\"text-align: right;\">\n",
       "      <th></th>\n",
       "      <th>Case Number</th>\n",
       "      <th>Date</th>\n",
       "      <th>Year</th>\n",
       "      <th>Type</th>\n",
       "      <th>Country</th>\n",
       "      <th>Area</th>\n",
       "      <th>Location</th>\n",
       "      <th>Activity</th>\n",
       "      <th>Name</th>\n",
       "      <th>Sex</th>\n",
       "      <th>...</th>\n",
       "      <th>Species</th>\n",
       "      <th>Investigator or Source</th>\n",
       "      <th>pdf</th>\n",
       "      <th>href formula</th>\n",
       "      <th>href</th>\n",
       "      <th>Case Number.1</th>\n",
       "      <th>Case Number.2</th>\n",
       "      <th>original order</th>\n",
       "      <th>Unnamed: 22</th>\n",
       "      <th>Unnamed: 23</th>\n",
       "    </tr>\n",
       "  </thead>\n",
       "  <tbody>\n",
       "    <tr>\n",
       "      <th>0</th>\n",
       "      <td>2018.06.25</td>\n",
       "      <td>25-Jun-2018</td>\n",
       "      <td>2018.0</td>\n",
       "      <td>Boating</td>\n",
       "      <td>USA</td>\n",
       "      <td>California</td>\n",
       "      <td>Oceanside, San Diego County</td>\n",
       "      <td>Paddling</td>\n",
       "      <td>Julie Wolfe</td>\n",
       "      <td>F</td>\n",
       "      <td>...</td>\n",
       "      <td>White shark</td>\n",
       "      <td>R. Collier, GSAF</td>\n",
       "      <td>2018.06.25-Wolfe.pdf</td>\n",
       "      <td>http://sharkattackfile.net/spreadsheets/pdf_di...</td>\n",
       "      <td>http://sharkattackfile.net/spreadsheets/pdf_di...</td>\n",
       "      <td>2018.06.25</td>\n",
       "      <td>2018.06.25</td>\n",
       "      <td>6303.0</td>\n",
       "      <td>NaN</td>\n",
       "      <td>NaN</td>\n",
       "    </tr>\n",
       "    <tr>\n",
       "      <th>1</th>\n",
       "      <td>2018.06.18</td>\n",
       "      <td>18-Jun-2018</td>\n",
       "      <td>2018.0</td>\n",
       "      <td>Unprovoked</td>\n",
       "      <td>USA</td>\n",
       "      <td>Georgia</td>\n",
       "      <td>St. Simon Island, Glynn County</td>\n",
       "      <td>Standing</td>\n",
       "      <td>Adyson McNeely</td>\n",
       "      <td>F</td>\n",
       "      <td>...</td>\n",
       "      <td>NaN</td>\n",
       "      <td>K.McMurray, TrackingSharks.com</td>\n",
       "      <td>2018.06.18-McNeely.pdf</td>\n",
       "      <td>http://sharkattackfile.net/spreadsheets/pdf_di...</td>\n",
       "      <td>http://sharkattackfile.net/spreadsheets/pdf_di...</td>\n",
       "      <td>2018.06.18</td>\n",
       "      <td>2018.06.18</td>\n",
       "      <td>6302.0</td>\n",
       "      <td>NaN</td>\n",
       "      <td>NaN</td>\n",
       "    </tr>\n",
       "    <tr>\n",
       "      <th>2</th>\n",
       "      <td>2018.06.09</td>\n",
       "      <td>09-Jun-2018</td>\n",
       "      <td>2018.0</td>\n",
       "      <td>Invalid</td>\n",
       "      <td>USA</td>\n",
       "      <td>Hawaii</td>\n",
       "      <td>Habush, Oahu</td>\n",
       "      <td>Surfing</td>\n",
       "      <td>John Denges</td>\n",
       "      <td>M</td>\n",
       "      <td>...</td>\n",
       "      <td>NaN</td>\n",
       "      <td>K.McMurray, TrackingSharks.com</td>\n",
       "      <td>2018.06.09-Denges.pdf</td>\n",
       "      <td>http://sharkattackfile.net/spreadsheets/pdf_di...</td>\n",
       "      <td>http://sharkattackfile.net/spreadsheets/pdf_di...</td>\n",
       "      <td>2018.06.09</td>\n",
       "      <td>2018.06.09</td>\n",
       "      <td>6301.0</td>\n",
       "      <td>NaN</td>\n",
       "      <td>NaN</td>\n",
       "    </tr>\n",
       "    <tr>\n",
       "      <th>3</th>\n",
       "      <td>2018.06.08</td>\n",
       "      <td>08-Jun-2018</td>\n",
       "      <td>2018.0</td>\n",
       "      <td>Unprovoked</td>\n",
       "      <td>AUSTRALIA</td>\n",
       "      <td>New South Wales</td>\n",
       "      <td>Arrawarra Headland</td>\n",
       "      <td>Surfing</td>\n",
       "      <td>male</td>\n",
       "      <td>M</td>\n",
       "      <td>...</td>\n",
       "      <td>2 m shark</td>\n",
       "      <td>B. Myatt, GSAF</td>\n",
       "      <td>2018.06.08-Arrawarra.pdf</td>\n",
       "      <td>http://sharkattackfile.net/spreadsheets/pdf_di...</td>\n",
       "      <td>http://sharkattackfile.net/spreadsheets/pdf_di...</td>\n",
       "      <td>2018.06.08</td>\n",
       "      <td>2018.06.08</td>\n",
       "      <td>6300.0</td>\n",
       "      <td>NaN</td>\n",
       "      <td>NaN</td>\n",
       "    </tr>\n",
       "    <tr>\n",
       "      <th>4</th>\n",
       "      <td>2018.06.04</td>\n",
       "      <td>04-Jun-2018</td>\n",
       "      <td>2018.0</td>\n",
       "      <td>Provoked</td>\n",
       "      <td>MEXICO</td>\n",
       "      <td>Colima</td>\n",
       "      <td>La Ticla</td>\n",
       "      <td>Free diving</td>\n",
       "      <td>Gustavo Ramos</td>\n",
       "      <td>M</td>\n",
       "      <td>...</td>\n",
       "      <td>Tiger shark, 3m</td>\n",
       "      <td>A .Kipper</td>\n",
       "      <td>2018.06.04-Ramos.pdf</td>\n",
       "      <td>http://sharkattackfile.net/spreadsheets/pdf_di...</td>\n",
       "      <td>http://sharkattackfile.net/spreadsheets/pdf_di...</td>\n",
       "      <td>2018.06.04</td>\n",
       "      <td>2018.06.04</td>\n",
       "      <td>6299.0</td>\n",
       "      <td>NaN</td>\n",
       "      <td>NaN</td>\n",
       "    </tr>\n",
       "  </tbody>\n",
       "</table>\n",
       "<p>5 rows × 24 columns</p>\n",
       "</div>"
      ],
      "text/plain": [
       "  Case Number         Date    Year        Type    Country             Area  \\\n",
       "0  2018.06.25  25-Jun-2018  2018.0     Boating        USA       California   \n",
       "1  2018.06.18  18-Jun-2018  2018.0  Unprovoked        USA          Georgia   \n",
       "2  2018.06.09  09-Jun-2018  2018.0     Invalid        USA           Hawaii   \n",
       "3  2018.06.08  08-Jun-2018  2018.0  Unprovoked  AUSTRALIA  New South Wales   \n",
       "4  2018.06.04  04-Jun-2018  2018.0    Provoked     MEXICO           Colima   \n",
       "\n",
       "                         Location     Activity             Name Sex   ...  \\\n",
       "0     Oceanside, San Diego County     Paddling      Julie Wolfe    F  ...   \n",
       "1  St. Simon Island, Glynn County     Standing  Adyson McNeely     F  ...   \n",
       "2                    Habush, Oahu      Surfing      John Denges    M  ...   \n",
       "3              Arrawarra Headland      Surfing             male    M  ...   \n",
       "4                        La Ticla  Free diving   Gustavo Ramos     M  ...   \n",
       "\n",
       "          Species           Investigator or Source                       pdf  \\\n",
       "0      White shark                R. Collier, GSAF      2018.06.25-Wolfe.pdf   \n",
       "1              NaN  K.McMurray, TrackingSharks.com    2018.06.18-McNeely.pdf   \n",
       "2              NaN  K.McMurray, TrackingSharks.com     2018.06.09-Denges.pdf   \n",
       "3        2 m shark                  B. Myatt, GSAF  2018.06.08-Arrawarra.pdf   \n",
       "4  Tiger shark, 3m                       A .Kipper      2018.06.04-Ramos.pdf   \n",
       "\n",
       "                                        href formula  \\\n",
       "0  http://sharkattackfile.net/spreadsheets/pdf_di...   \n",
       "1  http://sharkattackfile.net/spreadsheets/pdf_di...   \n",
       "2  http://sharkattackfile.net/spreadsheets/pdf_di...   \n",
       "3  http://sharkattackfile.net/spreadsheets/pdf_di...   \n",
       "4  http://sharkattackfile.net/spreadsheets/pdf_di...   \n",
       "\n",
       "                                                href Case Number.1  \\\n",
       "0  http://sharkattackfile.net/spreadsheets/pdf_di...    2018.06.25   \n",
       "1  http://sharkattackfile.net/spreadsheets/pdf_di...    2018.06.18   \n",
       "2  http://sharkattackfile.net/spreadsheets/pdf_di...    2018.06.09   \n",
       "3  http://sharkattackfile.net/spreadsheets/pdf_di...    2018.06.08   \n",
       "4  http://sharkattackfile.net/spreadsheets/pdf_di...    2018.06.04   \n",
       "\n",
       "  Case Number.2 original order Unnamed: 22 Unnamed: 23  \n",
       "0    2018.06.25         6303.0         NaN         NaN  \n",
       "1    2018.06.18         6302.0         NaN         NaN  \n",
       "2    2018.06.09         6301.0         NaN         NaN  \n",
       "3    2018.06.08         6300.0         NaN         NaN  \n",
       "4    2018.06.04         6299.0         NaN         NaN  \n",
       "\n",
       "[5 rows x 24 columns]"
      ]
     },
     "execution_count": 31,
     "metadata": {},
     "output_type": "execute_result"
    }
   ],
   "source": [
    "shark.head()"
   ]
  },
  {
   "cell_type": "code",
   "execution_count": 145,
   "metadata": {
    "ExecuteTime": {
     "end_time": "2020-11-04T15:11:36.866037Z",
     "start_time": "2020-11-04T15:11:36.775110Z"
    }
   },
   "outputs": [
    {
     "data": {
      "text/html": [
       "<div>\n",
       "<style scoped>\n",
       "    .dataframe tbody tr th:only-of-type {\n",
       "        vertical-align: middle;\n",
       "    }\n",
       "\n",
       "    .dataframe tbody tr th {\n",
       "        vertical-align: top;\n",
       "    }\n",
       "\n",
       "    .dataframe thead th {\n",
       "        text-align: right;\n",
       "    }\n",
       "</style>\n",
       "<table border=\"1\" class=\"dataframe\">\n",
       "  <thead>\n",
       "    <tr style=\"text-align: right;\">\n",
       "      <th></th>\n",
       "      <th>Year</th>\n",
       "      <th>original order</th>\n",
       "    </tr>\n",
       "  </thead>\n",
       "  <tbody>\n",
       "    <tr>\n",
       "      <th>count</th>\n",
       "      <td>112.000000</td>\n",
       "      <td>112.000000</td>\n",
       "    </tr>\n",
       "    <tr>\n",
       "      <th>mean</th>\n",
       "      <td>1993.964286</td>\n",
       "      <td>4260.250000</td>\n",
       "    </tr>\n",
       "    <tr>\n",
       "      <th>std</th>\n",
       "      <td>29.032423</td>\n",
       "      <td>1224.990116</td>\n",
       "    </tr>\n",
       "    <tr>\n",
       "      <th>min</th>\n",
       "      <td>1826.000000</td>\n",
       "      <td>202.000000</td>\n",
       "    </tr>\n",
       "    <tr>\n",
       "      <th>25%</th>\n",
       "      <td>1994.000000</td>\n",
       "      <td>3877.750000</td>\n",
       "    </tr>\n",
       "    <tr>\n",
       "      <th>50%</th>\n",
       "      <td>2000.000000</td>\n",
       "      <td>4276.000000</td>\n",
       "    </tr>\n",
       "    <tr>\n",
       "      <th>75%</th>\n",
       "      <td>2006.000000</td>\n",
       "      <td>4863.750000</td>\n",
       "    </tr>\n",
       "    <tr>\n",
       "      <th>max</th>\n",
       "      <td>2018.000000</td>\n",
       "      <td>6297.000000</td>\n",
       "    </tr>\n",
       "  </tbody>\n",
       "</table>\n",
       "</div>"
      ],
      "text/plain": [
       "              Year  original order\n",
       "count   112.000000      112.000000\n",
       "mean   1993.964286     4260.250000\n",
       "std      29.032423     1224.990116\n",
       "min    1826.000000      202.000000\n",
       "25%    1994.000000     3877.750000\n",
       "50%    2000.000000     4276.000000\n",
       "75%    2006.000000     4863.750000\n",
       "max    2018.000000     6297.000000"
      ]
     },
     "execution_count": 145,
     "metadata": {},
     "output_type": "execute_result"
    }
   ],
   "source": [
    "shark.loc[shark['Country'] == 'BRAZIL'].describe()"
   ]
  },
  {
   "cell_type": "code",
   "execution_count": 34,
   "metadata": {
    "ExecuteTime": {
     "end_time": "2020-11-04T11:40:26.779013Z",
     "start_time": "2020-11-04T11:40:26.775033Z"
    }
   },
   "outputs": [],
   "source": [
    "pd.options.display.max_columns=50"
   ]
  },
  {
   "cell_type": "markdown",
   "metadata": {},
   "source": [
    "# Criar um novo dataframe para os casos do Brasil"
   ]
  },
  {
   "cell_type": "code",
   "execution_count": 156,
   "metadata": {
    "ExecuteTime": {
     "end_time": "2020-11-04T15:22:47.288145Z",
     "start_time": "2020-11-04T15:22:47.193662Z"
    },
    "scrolled": false
   },
   "outputs": [
    {
     "data": {
      "text/html": [
       "<div>\n",
       "<style scoped>\n",
       "    .dataframe tbody tr th:only-of-type {\n",
       "        vertical-align: middle;\n",
       "    }\n",
       "\n",
       "    .dataframe tbody tr th {\n",
       "        vertical-align: top;\n",
       "    }\n",
       "\n",
       "    .dataframe thead th {\n",
       "        text-align: right;\n",
       "    }\n",
       "</style>\n",
       "<table border=\"1\" class=\"dataframe\">\n",
       "  <thead>\n",
       "    <tr style=\"text-align: right;\">\n",
       "      <th></th>\n",
       "      <th>Case Number</th>\n",
       "      <th>Date</th>\n",
       "      <th>Year</th>\n",
       "      <th>Type</th>\n",
       "      <th>Country</th>\n",
       "      <th>Area</th>\n",
       "      <th>Location</th>\n",
       "      <th>Activity</th>\n",
       "      <th>Name</th>\n",
       "      <th>Sex</th>\n",
       "      <th>Age</th>\n",
       "      <th>Injury</th>\n",
       "      <th>Fatal (Y/N)</th>\n",
       "      <th>Time</th>\n",
       "      <th>Species</th>\n",
       "      <th>Investigator or Source</th>\n",
       "      <th>pdf</th>\n",
       "      <th>href formula</th>\n",
       "      <th>href</th>\n",
       "      <th>Case Number.1</th>\n",
       "      <th>Case Number.2</th>\n",
       "      <th>original order</th>\n",
       "      <th>Unnamed: 22</th>\n",
       "      <th>Unnamed: 23</th>\n",
       "    </tr>\n",
       "  </thead>\n",
       "  <tbody>\n",
       "    <tr>\n",
       "      <th>6</th>\n",
       "      <td>2018.06.03.a</td>\n",
       "      <td>03-Jun-2018</td>\n",
       "      <td>2018.0</td>\n",
       "      <td>Unprovoked</td>\n",
       "      <td>BRAZIL</td>\n",
       "      <td>Pernambuco</td>\n",
       "      <td>Piedade Beach, Recife</td>\n",
       "      <td>Swimming</td>\n",
       "      <td>Jose Ernesto da Silva</td>\n",
       "      <td>M</td>\n",
       "      <td>18</td>\n",
       "      <td>FATAL</td>\n",
       "      <td>Y</td>\n",
       "      <td>Late afternoon</td>\n",
       "      <td>Tiger shark</td>\n",
       "      <td>Diario de Pernambuco, 6/4/2018</td>\n",
       "      <td>2018.06.03.a-daSilva.pdf</td>\n",
       "      <td>http://sharkattackfile.net/spreadsheets/pdf_di...</td>\n",
       "      <td>http://sharkattackfile.net/spreadsheets/pdf_di...</td>\n",
       "      <td>2018.06.03.a</td>\n",
       "      <td>2018.06.03.a</td>\n",
       "      <td>6297.0</td>\n",
       "      <td>NaN</td>\n",
       "      <td>NaN</td>\n",
       "    </tr>\n",
       "    <tr>\n",
       "      <th>27</th>\n",
       "      <td>2018.04.15.c</td>\n",
       "      <td>15-Apr-2018</td>\n",
       "      <td>2018.0</td>\n",
       "      <td>Unprovoked</td>\n",
       "      <td>BRAZIL</td>\n",
       "      <td>Pernambuco</td>\n",
       "      <td>Piedade</td>\n",
       "      <td>Swimming</td>\n",
       "      <td>Pablo de Melo</td>\n",
       "      <td>M</td>\n",
       "      <td>34</td>\n",
       "      <td>Multiple severe injuries to arms and leg, leg ...</td>\n",
       "      <td>NaN</td>\n",
       "      <td>NaN</td>\n",
       "      <td>NaN</td>\n",
       "      <td>Globo, 4/16/2018</td>\n",
       "      <td>2018.04.15.c-deMelo.pdf</td>\n",
       "      <td>http://sharkattackfile.net/spreadsheets/pdf_di...</td>\n",
       "      <td>http://sharkattackfile.net/spreadsheets/pdf_di...</td>\n",
       "      <td>2018.04.15.c</td>\n",
       "      <td>2018.04.15.c</td>\n",
       "      <td>6276.0</td>\n",
       "      <td>NaN</td>\n",
       "      <td>NaN</td>\n",
       "    </tr>\n",
       "    <tr>\n",
       "      <th>31</th>\n",
       "      <td>2018.04.10.R</td>\n",
       "      <td>Reported 10-Apr-2018</td>\n",
       "      <td>2018.0</td>\n",
       "      <td>Invalid</td>\n",
       "      <td>BRAZIL</td>\n",
       "      <td>Alagoas</td>\n",
       "      <td>Praia de Sauaçuhy, Maceió</td>\n",
       "      <td>Fishing</td>\n",
       "      <td>Josias Paz</td>\n",
       "      <td>M</td>\n",
       "      <td>56</td>\n",
       "      <td>Injury to ankle from marine animal trapped in ...</td>\n",
       "      <td>N</td>\n",
       "      <td>NaN</td>\n",
       "      <td>Shark involvement not confirmed</td>\n",
       "      <td>K. McMurray, TrackingSharks.com</td>\n",
       "      <td>2018.04.10.R-Paz.pdf</td>\n",
       "      <td>http://sharkattackfile.net/spreadsheets/pdf_di...</td>\n",
       "      <td>http://sharkattackfile.net/spreadsheets/pdf_di...</td>\n",
       "      <td>2018.04.10.R</td>\n",
       "      <td>2018.04.10.R</td>\n",
       "      <td>6272.0</td>\n",
       "      <td>NaN</td>\n",
       "      <td>NaN</td>\n",
       "    </tr>\n",
       "    <tr>\n",
       "      <th>44</th>\n",
       "      <td>2018.02.11</td>\n",
       "      <td>11-Feb-2018</td>\n",
       "      <td>2018.0</td>\n",
       "      <td>Invalid</td>\n",
       "      <td>BRAZIL</td>\n",
       "      <td>Boi Island, Victoria</td>\n",
       "      <td>Espirito Santo</td>\n",
       "      <td>Cleaning fish</td>\n",
       "      <td>Rosalida Souza</td>\n",
       "      <td>F</td>\n",
       "      <td>46</td>\n",
       "      <td>Lacerations to 4 toes of right foot</td>\n",
       "      <td>N</td>\n",
       "      <td>NaN</td>\n",
       "      <td>Injury believed caused by an eel, not a shark</td>\n",
       "      <td>TrackingSharks.com</td>\n",
       "      <td>2018.02.11-Rosilda.pdf</td>\n",
       "      <td>http://sharkattackfile.net/spreadsheets/pdf_di...</td>\n",
       "      <td>http://sharkattackfile.net/spreadsheets/pdf_di...</td>\n",
       "      <td>2018.02.11</td>\n",
       "      <td>2018.02.11</td>\n",
       "      <td>6259.0</td>\n",
       "      <td>NaN</td>\n",
       "      <td>NaN</td>\n",
       "    </tr>\n",
       "    <tr>\n",
       "      <th>51</th>\n",
       "      <td>2018.01.12</td>\n",
       "      <td>12-Jan-2018</td>\n",
       "      <td>2018.0</td>\n",
       "      <td>Unprovoked</td>\n",
       "      <td>BRAZIL</td>\n",
       "      <td>Fernando de Noronha</td>\n",
       "      <td>Conceicao Beach</td>\n",
       "      <td>Surfing</td>\n",
       "      <td>Ricardo Ferrari Bulhoes</td>\n",
       "      <td>M</td>\n",
       "      <td>20</td>\n",
       "      <td>Minor injury to left forearm</td>\n",
       "      <td>N</td>\n",
       "      <td>Late afternoon</td>\n",
       "      <td>small shark</td>\n",
       "      <td>TrackingSharks.com</td>\n",
       "      <td>2018.01.12-Bulhoes.pdf</td>\n",
       "      <td>http://sharkattackfile.net/spreadsheets/pdf_di...</td>\n",
       "      <td>http://sharkattackfile.net/spreadsheets/pdf_di...</td>\n",
       "      <td>2018.01.12</td>\n",
       "      <td>2018.01.12</td>\n",
       "      <td>6252.0</td>\n",
       "      <td>NaN</td>\n",
       "      <td>NaN</td>\n",
       "    </tr>\n",
       "    <tr>\n",
       "      <th>...</th>\n",
       "      <td>...</td>\n",
       "      <td>...</td>\n",
       "      <td>...</td>\n",
       "      <td>...</td>\n",
       "      <td>...</td>\n",
       "      <td>...</td>\n",
       "      <td>...</td>\n",
       "      <td>...</td>\n",
       "      <td>...</td>\n",
       "      <td>...</td>\n",
       "      <td>...</td>\n",
       "      <td>...</td>\n",
       "      <td>...</td>\n",
       "      <td>...</td>\n",
       "      <td>...</td>\n",
       "      <td>...</td>\n",
       "      <td>...</td>\n",
       "      <td>...</td>\n",
       "      <td>...</td>\n",
       "      <td>...</td>\n",
       "      <td>...</td>\n",
       "      <td>...</td>\n",
       "      <td>...</td>\n",
       "      <td>...</td>\n",
       "    </tr>\n",
       "    <tr>\n",
       "      <th>5122</th>\n",
       "      <td>1927.10.25</td>\n",
       "      <td>25-Oct-1927</td>\n",
       "      <td>1927.0</td>\n",
       "      <td>Sea Disaster</td>\n",
       "      <td>BRAZIL</td>\n",
       "      <td>Porto Seguro</td>\n",
       "      <td>90 miles off Albrohos Island</td>\n",
       "      <td>Italian liner Principessa Mafalda sank</td>\n",
       "      <td>NaN</td>\n",
       "      <td>NaN</td>\n",
       "      <td>NaN</td>\n",
       "      <td>Of 1256 on board, 295 perished, some were take...</td>\n",
       "      <td>Y</td>\n",
       "      <td>12h00</td>\n",
       "      <td>NaN</td>\n",
       "      <td>L. Schultz &amp; M. Malin, p.557; SAF Case #833</td>\n",
       "      <td>1927.10.25-Mafalda.pdf</td>\n",
       "      <td>http://sharkattackfile.net/spreadsheets/pdf_di...</td>\n",
       "      <td>http://sharkattackfile.net/spreadsheets/pdf_di...</td>\n",
       "      <td>1927.10.25</td>\n",
       "      <td>1927.10.25</td>\n",
       "      <td>1181.0</td>\n",
       "      <td>NaN</td>\n",
       "      <td>NaN</td>\n",
       "    </tr>\n",
       "    <tr>\n",
       "      <th>5746</th>\n",
       "      <td>1887.01.20</td>\n",
       "      <td>20-Jan-1887</td>\n",
       "      <td>1887.0</td>\n",
       "      <td>Sea Disaster</td>\n",
       "      <td>BRAZIL</td>\n",
       "      <td>Alagoas</td>\n",
       "      <td>Maceió</td>\n",
       "      <td>The passenger ship Kapuna was run down the ore...</td>\n",
       "      <td>Whittle</td>\n",
       "      <td>M</td>\n",
       "      <td>NaN</td>\n",
       "      <td>FATAL</td>\n",
       "      <td>Y</td>\n",
       "      <td>03h00</td>\n",
       "      <td>NaN</td>\n",
       "      <td>Brisbane Courier, 4/14/1887</td>\n",
       "      <td>1887.01.20-Whittle.pdf</td>\n",
       "      <td>http://sharkattackfile.net/spreadsheets/pdf_di...</td>\n",
       "      <td>http://sharkattackfile.net/spreadsheets/pdf_di...</td>\n",
       "      <td>1887.01.20</td>\n",
       "      <td>1887.01.20</td>\n",
       "      <td>557.0</td>\n",
       "      <td>NaN</td>\n",
       "      <td>NaN</td>\n",
       "    </tr>\n",
       "    <tr>\n",
       "      <th>5777</th>\n",
       "      <td>1884.04.38.R</td>\n",
       "      <td>Reported 28-Apr-1884</td>\n",
       "      <td>1884.0</td>\n",
       "      <td>Unprovoked</td>\n",
       "      <td>BRAZIL</td>\n",
       "      <td>NaN</td>\n",
       "      <td>Bahia</td>\n",
       "      <td>Fell overboard from the steamship Chala</td>\n",
       "      <td>male</td>\n",
       "      <td>M</td>\n",
       "      <td>NaN</td>\n",
       "      <td>FATAL</td>\n",
       "      <td>Y</td>\n",
       "      <td>NaN</td>\n",
       "      <td>NaN</td>\n",
       "      <td>Pittsburgh Post Gazette, 4/28/1884</td>\n",
       "      <td>1884.04.28.R-ChalaCook.pdf</td>\n",
       "      <td>http://sharkattackfile.net/spreadsheets/pdf_di...</td>\n",
       "      <td>http://sharkattackfile.net/spreadsheets/pdf_di...</td>\n",
       "      <td>1884.04.28.R</td>\n",
       "      <td>1884.04.38.R</td>\n",
       "      <td>526.0</td>\n",
       "      <td>NaN</td>\n",
       "      <td>NaN</td>\n",
       "    </tr>\n",
       "    <tr>\n",
       "      <th>5848</th>\n",
       "      <td>1878.02.02</td>\n",
       "      <td>02-Feb-1878</td>\n",
       "      <td>1878.0</td>\n",
       "      <td>Sea Disaster</td>\n",
       "      <td>BRAZIL</td>\n",
       "      <td>NaN</td>\n",
       "      <td>NaN</td>\n",
       "      <td>Washed off raft</td>\n",
       "      <td>escaped convict</td>\n",
       "      <td>M</td>\n",
       "      <td>NaN</td>\n",
       "      <td>FATAL</td>\n",
       "      <td>Y</td>\n",
       "      <td>NaN</td>\n",
       "      <td>NaN</td>\n",
       "      <td>St Louis Post Dispatch, 5/22/1878</td>\n",
       "      <td>1878.02.02-Brazil.pdf</td>\n",
       "      <td>http://sharkattackfile.net/spreadsheets/pdf_di...</td>\n",
       "      <td>http://sharkattackfile.net/spreadsheets/pdf_di...</td>\n",
       "      <td>1878.02.02</td>\n",
       "      <td>1878.02.02</td>\n",
       "      <td>455.0</td>\n",
       "      <td>NaN</td>\n",
       "      <td>NaN</td>\n",
       "    </tr>\n",
       "    <tr>\n",
       "      <th>6101</th>\n",
       "      <td>1826.12.00</td>\n",
       "      <td>Dec-1826</td>\n",
       "      <td>1826.0</td>\n",
       "      <td>Unprovoked</td>\n",
       "      <td>BRAZIL</td>\n",
       "      <td>Paraiba</td>\n",
       "      <td>Paraiba</td>\n",
       "      <td>NaN</td>\n",
       "      <td>a seaman from the ship Beverly</td>\n",
       "      <td>M</td>\n",
       "      <td>NaN</td>\n",
       "      <td>Leg severed</td>\n",
       "      <td>N</td>\n",
       "      <td>NaN</td>\n",
       "      <td>NaN</td>\n",
       "      <td>Book of the Ocean</td>\n",
       "      <td>1826.12.00-seaman-Beverly.pdf</td>\n",
       "      <td>http://sharkattackfile.net/spreadsheets/pdf_di...</td>\n",
       "      <td>http://sharkattackfile.net/spreadsheets/pdf_di...</td>\n",
       "      <td>1826.12.00</td>\n",
       "      <td>1826.12.00</td>\n",
       "      <td>202.0</td>\n",
       "      <td>NaN</td>\n",
       "      <td>NaN</td>\n",
       "    </tr>\n",
       "  </tbody>\n",
       "</table>\n",
       "<p>112 rows × 24 columns</p>\n",
       "</div>"
      ],
      "text/plain": [
       "       Case Number                  Date    Year          Type Country  \\\n",
       "6     2018.06.03.a           03-Jun-2018  2018.0    Unprovoked  BRAZIL   \n",
       "27    2018.04.15.c           15-Apr-2018  2018.0    Unprovoked  BRAZIL   \n",
       "31    2018.04.10.R  Reported 10-Apr-2018  2018.0       Invalid  BRAZIL   \n",
       "44      2018.02.11           11-Feb-2018  2018.0       Invalid  BRAZIL   \n",
       "51      2018.01.12           12-Jan-2018  2018.0    Unprovoked  BRAZIL   \n",
       "...            ...                   ...     ...           ...     ...   \n",
       "5122    1927.10.25           25-Oct-1927  1927.0  Sea Disaster  BRAZIL   \n",
       "5746    1887.01.20           20-Jan-1887  1887.0  Sea Disaster  BRAZIL   \n",
       "5777  1884.04.38.R  Reported 28-Apr-1884  1884.0    Unprovoked  BRAZIL   \n",
       "5848    1878.02.02           02-Feb-1878  1878.0  Sea Disaster  BRAZIL   \n",
       "6101    1826.12.00              Dec-1826  1826.0    Unprovoked  BRAZIL   \n",
       "\n",
       "                      Area                      Location  \\\n",
       "6               Pernambuco         Piedade Beach, Recife   \n",
       "27              Pernambuco                       Piedade   \n",
       "31                 Alagoas     Praia de Sauaçuhy, Maceió   \n",
       "44    Boi Island, Victoria                Espirito Santo   \n",
       "51     Fernando de Noronha               Conceicao Beach   \n",
       "...                    ...                           ...   \n",
       "5122          Porto Seguro  90 miles off Albrohos Island   \n",
       "5746               Alagoas                        Maceió   \n",
       "5777                   NaN                         Bahia   \n",
       "5848                   NaN                           NaN   \n",
       "6101               Paraiba                       Paraiba   \n",
       "\n",
       "                                               Activity  \\\n",
       "6                                              Swimming   \n",
       "27                                             Swimming   \n",
       "31                                              Fishing   \n",
       "44                                        Cleaning fish   \n",
       "51                                              Surfing   \n",
       "...                                                 ...   \n",
       "5122             Italian liner Principessa Mafalda sank   \n",
       "5746  The passenger ship Kapuna was run down the ore...   \n",
       "5777            Fell overboard from the steamship Chala   \n",
       "5848                                    Washed off raft   \n",
       "6101                                                NaN   \n",
       "\n",
       "                                Name Sex   Age  \\\n",
       "6             Jose Ernesto da Silva     M   18   \n",
       "27                     Pablo de Melo    M   34   \n",
       "31                        Josias Paz    M   56   \n",
       "44                    Rosalida Souza    F   46   \n",
       "51          Ricardo Ferrari Bulhoes     M   20   \n",
       "...                              ...  ...  ...   \n",
       "5122                             NaN  NaN  NaN   \n",
       "5746                         Whittle    M  NaN   \n",
       "5777                            male    M  NaN   \n",
       "5848                 escaped convict    M  NaN   \n",
       "6101  a seaman from the ship Beverly    M  NaN   \n",
       "\n",
       "                                                 Injury Fatal (Y/N)  \\\n",
       "6                                                 FATAL           Y   \n",
       "27    Multiple severe injuries to arms and leg, leg ...         NaN   \n",
       "31    Injury to ankle from marine animal trapped in ...           N   \n",
       "44                  Lacerations to 4 toes of right foot           N   \n",
       "51                         Minor injury to left forearm           N   \n",
       "...                                                 ...         ...   \n",
       "5122  Of 1256 on board, 295 perished, some were take...           Y   \n",
       "5746                                              FATAL           Y   \n",
       "5777                                              FATAL           Y   \n",
       "5848                                              FATAL           Y   \n",
       "6101                                        Leg severed           N   \n",
       "\n",
       "                Time                                       Species   \\\n",
       "6     Late afternoon                                    Tiger shark   \n",
       "27               NaN                                            NaN   \n",
       "31               NaN                Shark involvement not confirmed   \n",
       "44               NaN  Injury believed caused by an eel, not a shark   \n",
       "51    Late afternoon                                    small shark   \n",
       "...              ...                                            ...   \n",
       "5122           12h00                                            NaN   \n",
       "5746           03h00                                            NaN   \n",
       "5777             NaN                                            NaN   \n",
       "5848             NaN                                            NaN   \n",
       "6101             NaN                                            NaN   \n",
       "\n",
       "                           Investigator or Source  \\\n",
       "6                  Diario de Pernambuco, 6/4/2018   \n",
       "27                               Globo, 4/16/2018   \n",
       "31                K. McMurray, TrackingSharks.com   \n",
       "44                             TrackingSharks.com   \n",
       "51                             TrackingSharks.com   \n",
       "...                                           ...   \n",
       "5122  L. Schultz & M. Malin, p.557; SAF Case #833   \n",
       "5746                  Brisbane Courier, 4/14/1887   \n",
       "5777           Pittsburgh Post Gazette, 4/28/1884   \n",
       "5848            St Louis Post Dispatch, 5/22/1878   \n",
       "6101                            Book of the Ocean   \n",
       "\n",
       "                                pdf  \\\n",
       "6          2018.06.03.a-daSilva.pdf   \n",
       "27          2018.04.15.c-deMelo.pdf   \n",
       "31             2018.04.10.R-Paz.pdf   \n",
       "44           2018.02.11-Rosilda.pdf   \n",
       "51           2018.01.12-Bulhoes.pdf   \n",
       "...                             ...   \n",
       "5122         1927.10.25-Mafalda.pdf   \n",
       "5746         1887.01.20-Whittle.pdf   \n",
       "5777     1884.04.28.R-ChalaCook.pdf   \n",
       "5848          1878.02.02-Brazil.pdf   \n",
       "6101  1826.12.00-seaman-Beverly.pdf   \n",
       "\n",
       "                                           href formula  \\\n",
       "6     http://sharkattackfile.net/spreadsheets/pdf_di...   \n",
       "27    http://sharkattackfile.net/spreadsheets/pdf_di...   \n",
       "31    http://sharkattackfile.net/spreadsheets/pdf_di...   \n",
       "44    http://sharkattackfile.net/spreadsheets/pdf_di...   \n",
       "51    http://sharkattackfile.net/spreadsheets/pdf_di...   \n",
       "...                                                 ...   \n",
       "5122  http://sharkattackfile.net/spreadsheets/pdf_di...   \n",
       "5746  http://sharkattackfile.net/spreadsheets/pdf_di...   \n",
       "5777  http://sharkattackfile.net/spreadsheets/pdf_di...   \n",
       "5848  http://sharkattackfile.net/spreadsheets/pdf_di...   \n",
       "6101  http://sharkattackfile.net/spreadsheets/pdf_di...   \n",
       "\n",
       "                                                   href Case Number.1  \\\n",
       "6     http://sharkattackfile.net/spreadsheets/pdf_di...  2018.06.03.a   \n",
       "27    http://sharkattackfile.net/spreadsheets/pdf_di...  2018.04.15.c   \n",
       "31    http://sharkattackfile.net/spreadsheets/pdf_di...  2018.04.10.R   \n",
       "44    http://sharkattackfile.net/spreadsheets/pdf_di...    2018.02.11   \n",
       "51    http://sharkattackfile.net/spreadsheets/pdf_di...    2018.01.12   \n",
       "...                                                 ...           ...   \n",
       "5122  http://sharkattackfile.net/spreadsheets/pdf_di...    1927.10.25   \n",
       "5746  http://sharkattackfile.net/spreadsheets/pdf_di...    1887.01.20   \n",
       "5777  http://sharkattackfile.net/spreadsheets/pdf_di...  1884.04.28.R   \n",
       "5848  http://sharkattackfile.net/spreadsheets/pdf_di...    1878.02.02   \n",
       "6101  http://sharkattackfile.net/spreadsheets/pdf_di...    1826.12.00   \n",
       "\n",
       "     Case Number.2  original order Unnamed: 22 Unnamed: 23  \n",
       "6     2018.06.03.a          6297.0         NaN         NaN  \n",
       "27    2018.04.15.c          6276.0         NaN         NaN  \n",
       "31    2018.04.10.R          6272.0         NaN         NaN  \n",
       "44      2018.02.11          6259.0         NaN         NaN  \n",
       "51      2018.01.12          6252.0         NaN         NaN  \n",
       "...            ...             ...         ...         ...  \n",
       "5122    1927.10.25          1181.0         NaN         NaN  \n",
       "5746    1887.01.20           557.0         NaN         NaN  \n",
       "5777  1884.04.38.R           526.0         NaN         NaN  \n",
       "5848    1878.02.02           455.0         NaN         NaN  \n",
       "6101    1826.12.00           202.0         NaN         NaN  \n",
       "\n",
       "[112 rows x 24 columns]"
      ]
     },
     "execution_count": 156,
     "metadata": {},
     "output_type": "execute_result"
    }
   ],
   "source": [
    "shark_bra = shark.loc[shark['Country']=='BRAZIL']\n",
    "shark_bra"
   ]
  },
  {
   "cell_type": "markdown",
   "metadata": {},
   "source": [
    "## Analisar os estados brasileiros onde houve ataques"
   ]
  },
  {
   "cell_type": "code",
   "execution_count": 157,
   "metadata": {
    "ExecuteTime": {
     "end_time": "2020-11-04T15:22:48.795438Z",
     "start_time": "2020-11-04T15:22:48.779207Z"
    },
    "cell_style": "split"
   },
   "outputs": [
    {
     "data": {
      "text/plain": [
       "Pernambuco              74\n",
       "Rio de Janeiro          11\n",
       "Maranhão                 5\n",
       "Bahia                    3\n",
       "Rio Grande de Norte      2\n",
       "Alagoas                  2\n",
       "Porto Seguro             1\n",
       "Santa Catarina State     1\n",
       "Paraiba                  1\n",
       "Boi Island, Victoria     1\n",
       "Rio Grande Do Sul        1\n",
       "Fernando de Noronha      1\n",
       "Balneário Camboriú       1\n",
       "Name: Area, dtype: int64"
      ]
     },
     "execution_count": 157,
     "metadata": {},
     "output_type": "execute_result"
    }
   ],
   "source": [
    "shark_bra['Area'].value_counts()"
   ]
  },
  {
   "cell_type": "code",
   "execution_count": 158,
   "metadata": {
    "ExecuteTime": {
     "end_time": "2020-11-04T15:22:50.563013Z",
     "start_time": "2020-11-04T15:22:50.550962Z"
    },
    "cell_style": "split"
   },
   "outputs": [
    {
     "data": {
      "text/plain": [
       "Pernambuco              0.711538\n",
       "Rio de Janeiro          0.105769\n",
       "Maranhão                0.048077\n",
       "Bahia                   0.028846\n",
       "Rio Grande de Norte     0.019231\n",
       "Alagoas                 0.019231\n",
       "Porto Seguro            0.009615\n",
       "Santa Catarina State    0.009615\n",
       "Paraiba                 0.009615\n",
       "Boi Island, Victoria    0.009615\n",
       "Rio Grande Do Sul       0.009615\n",
       "Fernando de Noronha     0.009615\n",
       "Balneário Camboriú      0.009615\n",
       "Name: Area, dtype: float64"
      ]
     },
     "execution_count": 158,
     "metadata": {},
     "output_type": "execute_result"
    }
   ],
   "source": [
    "shark_bra['Area'].value_counts(normalize=True)"
   ]
  },
  {
   "cell_type": "markdown",
   "metadata": {},
   "source": [
    "## Analisar o período em que os ataques se intensificaram"
   ]
  },
  {
   "cell_type": "code",
   "execution_count": 159,
   "metadata": {
    "ExecuteTime": {
     "end_time": "2020-11-04T15:22:53.471203Z",
     "start_time": "2020-11-04T15:22:53.454221Z"
    }
   },
   "outputs": [
    {
     "data": {
      "text/plain": [
       "98"
      ]
     },
     "execution_count": 159,
     "metadata": {},
     "output_type": "execute_result"
    }
   ],
   "source": [
    "shark_bra[shark_bra['Year']>1990]['Year'].count()"
   ]
  },
  {
   "cell_type": "code",
   "execution_count": 160,
   "metadata": {
    "ExecuteTime": {
     "end_time": "2020-11-04T15:22:56.842180Z",
     "start_time": "2020-11-04T15:22:56.830135Z"
    },
    "scrolled": false
   },
   "outputs": [
    {
     "data": {
      "text/plain": [
       "14"
      ]
     },
     "execution_count": 160,
     "metadata": {},
     "output_type": "execute_result"
    }
   ],
   "source": [
    "shark_bra[shark_bra['Year']<1990]['Year'].count()"
   ]
  },
  {
   "cell_type": "markdown",
   "metadata": {},
   "source": [
    "## Analisar as regiões dos ataques\n",
    "\n",
    "    Reescrever as regiões para concentrar numa só as que forem coincidentes"
   ]
  },
  {
   "cell_type": "code",
   "execution_count": 161,
   "metadata": {
    "ExecuteTime": {
     "end_time": "2020-11-04T15:22:59.582093Z",
     "start_time": "2020-11-04T15:22:59.564464Z"
    },
    "scrolled": true
   },
   "outputs": [
    {
     "data": {
      "text/plain": [
       "Boa Viagem, Recife                                          14\n",
       "Piedade                                                     11\n",
       "Boa Viagem Beach, Recife                                     9\n",
       "Piedade, Recife                                              4\n",
       "Copacabana Beach, Rio de Janiero                             4\n",
       "Paiva                                                        4\n",
       "Piedade Beach, Recife                                        4\n",
       "Candeias                                                     2\n",
       "Pina, Recife                                                 2\n",
       "Punta Del Chifre Beach, Olinda                               2\n",
       "Cabo Frio                                                    2\n",
       "Praia da Marcela, São Marcos Bay                             2\n",
       "Rio de Janeiro, Guanabara Bay                                2\n",
       "Barra de Jangada                                             2\n",
       "Praia do Pina                                                2\n",
       "Piedade Beach                                                2\n",
       "Escalerio Beach Balneário Camboriú                           1\n",
       "Maceió                                                       1\n",
       "Praia do Olho D'Água, São Luis                               1\n",
       "Ilhéus                                                       1\n",
       "Itamaracá                                                    1\n",
       "Manguinhos, Ilha Feia, Búzios                                1\n",
       "Coral Cove Beach                                             1\n",
       "Conceicao Beach                                              1\n",
       "Pina                                                         1\n",
       "Fernano de Noronha                                           1\n",
       "Punta Del Chifre, Olinda                                     1\n",
       "Praia de Camapum, Macau                                      1\n",
       "500 km off the coast of Pernambuco                           1\n",
       " Boa Viagem Beach, Recife                                    1\n",
       "Pau Amarelo Beach, Paulista District (17 km from Recife)     1\n",
       "Praia del Chifre, Olinda                                     1\n",
       "Fernando de Noronha Marine Park                              1\n",
       "Piedade Beach, Jaboatão dos Guararapes City                  1\n",
       "Piedade                                                      1\n",
       "Coral Cove, Cabo de Santo Agostinho                          1\n",
       "Paraiba                                                      1\n",
       "Praia de Pau Amarelo, Recife                                 1\n",
       "Estaleirinho beach                                           1\n",
       "Copacabana                                                   1\n",
       "Nova Vicosa                                                  1\n",
       "Olho d'Água                                                  1\n",
       "Praia de São Marcus, Sáo Luiz                                1\n",
       "Bahia                                                        1\n",
       "Guarajuba                                                    1\n",
       "Espirito Santo                                               1\n",
       "Body recovered at Goiana                                     1\n",
       "Copacabana, Rio de Janeiro                                   1\n",
       "Atlantis Beach, near Tramandai                               1\n",
       "Praia do Olho d'Aqua                                         1\n",
       "Piedade Beach, Jaboatão dos Guararapes City, Recife          1\n",
       "90 miles off Albrohos Island                                 1\n",
       "Praia de Sauaçuhy, Maceió                                    1\n",
       "Atol das Rochas                                              1\n",
       "Near the Abrolhos Archipelago                                1\n",
       "Name: Location, dtype: int64"
      ]
     },
     "execution_count": 161,
     "metadata": {},
     "output_type": "execute_result"
    }
   ],
   "source": [
    "shark_bra['Location'].value_counts()"
   ]
  },
  {
   "cell_type": "code",
   "execution_count": 162,
   "metadata": {
    "ExecuteTime": {
     "end_time": "2020-11-04T15:23:01.946809Z",
     "start_time": "2020-11-04T15:23:01.934823Z"
    },
    "scrolled": false
   },
   "outputs": [
    {
     "data": {
      "text/plain": [
       "False    107\n",
       "True       5\n",
       "Name: Location, dtype: int64"
      ]
     },
     "execution_count": 162,
     "metadata": {},
     "output_type": "execute_result"
    }
   ],
   "source": [
    "shark_bra['Location'].isna().value_counts()"
   ]
  },
  {
   "cell_type": "code",
   "execution_count": 163,
   "metadata": {
    "ExecuteTime": {
     "end_time": "2020-11-04T15:23:05.987519Z",
     "start_time": "2020-11-04T15:23:05.973896Z"
    }
   },
   "outputs": [
    {
     "name": "stderr",
     "output_type": "stream",
     "text": [
      "/usr/local/lib/python3.8/site-packages/pandas/core/series.py:4517: SettingWithCopyWarning: \n",
      "A value is trying to be set on a copy of a slice from a DataFrame\n",
      "\n",
      "See the caveats in the documentation: https://pandas.pydata.org/pandas-docs/stable/user_guide/indexing.html#returning-a-view-versus-a-copy\n",
      "  return super().fillna(\n"
     ]
    }
   ],
   "source": [
    "shark_bra['Location'].fillna('NA',inplace=True)"
   ]
  },
  {
   "cell_type": "code",
   "execution_count": 164,
   "metadata": {
    "ExecuteTime": {
     "end_time": "2020-11-04T15:23:13.934509Z",
     "start_time": "2020-11-04T15:23:13.925008Z"
    }
   },
   "outputs": [],
   "source": [
    "def change_location(name):\n",
    "    return re.sub('.*Piedade.*|.*Boa Viagem.*' , 'Piedade/Boa Viagem', name)\n",
    "        \n",
    "    "
   ]
  },
  {
   "cell_type": "code",
   "execution_count": 165,
   "metadata": {
    "ExecuteTime": {
     "end_time": "2020-11-04T15:23:22.200050Z",
     "start_time": "2020-11-04T15:23:22.190976Z"
    },
    "scrolled": true
   },
   "outputs": [
    {
     "name": "stderr",
     "output_type": "stream",
     "text": [
      "<ipython-input-165-0cd807111c33>:1: SettingWithCopyWarning: \n",
      "A value is trying to be set on a copy of a slice from a DataFrame.\n",
      "Try using .loc[row_indexer,col_indexer] = value instead\n",
      "\n",
      "See the caveats in the documentation: https://pandas.pydata.org/pandas-docs/stable/user_guide/indexing.html#returning-a-view-versus-a-copy\n",
      "  shark_bra['Location'] = shark_bra['Location'].apply(change_location)\n"
     ]
    }
   ],
   "source": [
    "shark_bra['Location'] = shark_bra['Location'].apply(change_location)"
   ]
  },
  {
   "cell_type": "code",
   "execution_count": 173,
   "metadata": {
    "ExecuteTime": {
     "end_time": "2020-11-04T16:06:36.683701Z",
     "start_time": "2020-11-04T16:06:36.670595Z"
    },
    "cell_style": "center"
   },
   "outputs": [
    {
     "data": {
      "text/plain": [
       "Piedade/Boa Viagem                                          0.428571\n",
       "NA                                                          0.044643\n",
       "Copacabana Beach, Rio de Janiero                            0.035714\n",
       "Paiva                                                       0.035714\n",
       "Pina, Recife                                                0.017857\n",
       "Praia do Pina                                               0.017857\n",
       "Rio de Janeiro, Guanabara Bay                               0.017857\n",
       "Cabo Frio                                                   0.017857\n",
       "Punta Del Chifre Beach, Olinda                              0.017857\n",
       "Candeias                                                    0.017857\n",
       "Praia da Marcela, São Marcos Bay                            0.017857\n",
       "Barra de Jangada                                            0.017857\n",
       "Praia de Pau Amarelo, Recife                                0.008929\n",
       "Praia del Chifre, Olinda                                    0.008929\n",
       "Praia de São Marcus, Sáo Luiz                               0.008929\n",
       "Escalerio Beach Balneário Camboriú                          0.008929\n",
       "Conceicao Beach                                             0.008929\n",
       "Itamaracá                                                   0.008929\n",
       "Pina                                                        0.008929\n",
       "Praia de Sauaçuhy, Maceió                                   0.008929\n",
       "Atlantis Beach, near Tramandai                              0.008929\n",
       "Praia do Olho d'Aqua                                        0.008929\n",
       "Copacabana, Rio de Janeiro                                  0.008929\n",
       "Guarajuba                                                   0.008929\n",
       "Manguinhos, Ilha Feia, Búzios                               0.008929\n",
       "Near the Abrolhos Archipelago                               0.008929\n",
       "Fernando de Noronha Marine Park                             0.008929\n",
       "90 miles off Albrohos Island                                0.008929\n",
       "500 km off the coast of Pernambuco                          0.008929\n",
       "Atol das Rochas                                             0.008929\n",
       "Copacabana                                                  0.008929\n",
       "Nova Vicosa                                                 0.008929\n",
       "Ilhéus                                                      0.008929\n",
       "Estaleirinho beach                                          0.008929\n",
       "Maceió                                                      0.008929\n",
       "Coral Cove Beach                                            0.008929\n",
       "Olho d'Água                                                 0.008929\n",
       "Pau Amarelo Beach, Paulista District (17 km from Recife)    0.008929\n",
       "Praia do Olho D'Água, São Luis                              0.008929\n",
       "Coral Cove, Cabo de Santo Agostinho                         0.008929\n",
       "Paraiba                                                     0.008929\n",
       "Fernano de Noronha                                          0.008929\n",
       "Praia de Camapum, Macau                                     0.008929\n",
       "Bahia                                                       0.008929\n",
       "Espirito Santo                                              0.008929\n",
       "Body recovered at Goiana                                    0.008929\n",
       "Punta Del Chifre, Olinda                                    0.008929\n",
       "Name: Location, dtype: float64"
      ]
     },
     "execution_count": 173,
     "metadata": {},
     "output_type": "execute_result"
    }
   ],
   "source": [
    "shark_bra['Location'].value_counts(normalize=True)"
   ]
  },
  {
   "cell_type": "markdown",
   "metadata": {},
   "source": [
    "## Analisar as atividades das pessoas atacadas"
   ]
  },
  {
   "cell_type": "code",
   "execution_count": 172,
   "metadata": {
    "ExecuteTime": {
     "end_time": "2020-11-04T16:06:11.930184Z",
     "start_time": "2020-11-04T16:06:11.915775Z"
    },
    "scrolled": true
   },
   "outputs": [
    {
     "data": {
      "text/plain": [
       "Surfing                                                                               0.349515\n",
       "Swimming                                                                              0.300971\n",
       "Body boarding                                                                         0.038835\n",
       "Bathing                                                                               0.029126\n",
       "Swimming                                                                              0.029126\n",
       "Fishing                                                                               0.029126\n",
       "Spearfishing                                                                          0.019417\n",
       "Washed off raft                                                                       0.009709\n",
       "Killing  sharks                                                                       0.009709\n",
       "Wading                                                                                0.009709\n",
       "Fishing boat swamped in a storm                                                       0.009709\n",
       "Diving                                                                                0.009709\n",
       "The 3540-ton Alfonso Penna was torpedoed & sunk by the Italian submarine Barbarigo    0.009709\n",
       "Swimming, attempting to rescue a girl  believed to be drowning                        0.009709\n",
       "The passenger ship Kapuna was run down the ore carrier Ada Melmore                    0.009709\n",
       "Italian liner Principessa Mafalda sank                                                0.009709\n",
       "Grabbing shark for a selfie                                                           0.009709\n",
       "Boogie boarding                                                                       0.009709\n",
       "Fell overboard from the steamship Chala                                               0.009709\n",
       "boat capsized during filming                                                          0.009709\n",
       "Attempting to catch a crocodile                                                       0.009709\n",
       "Scuba diving                                                                          0.009709\n",
       "Spearfishing, but swimming at surface                                                 0.009709\n",
       "Cleaning fish                                                                         0.009709\n",
       "Scientific research (Dr. Sonny Gruber's student)                                      0.009709\n",
       "Batin                                                                                 0.009709\n",
       "Removing fish from a trap                                                             0.009709\n",
       "Windsurfing                                                                           0.009709\n",
       "Name: Activity, dtype: float64"
      ]
     },
     "execution_count": 172,
     "metadata": {},
     "output_type": "execute_result"
    }
   ],
   "source": [
    "shark_bra['Activity'].value_counts(normalize=True)"
   ]
  },
  {
   "cell_type": "markdown",
   "metadata": {},
   "source": [
    "## Analisar a letalidade dos ataques\n",
    "\n",
    "    Comparação com outros países"
   ]
  },
  {
   "cell_type": "code",
   "execution_count": 131,
   "metadata": {
    "ExecuteTime": {
     "end_time": "2020-11-04T14:40:46.379274Z",
     "start_time": "2020-11-04T14:40:46.341718Z"
    }
   },
   "outputs": [
    {
     "data": {
      "text/plain": [
       "Index(['Case Number', 'Date', 'Year', 'Type', 'Country', 'Area', 'Location',\n",
       "       'Activity', 'Name', 'Sex ', 'Age', 'Injury', 'Fatal (Y/N)', 'Time',\n",
       "       'Species ', 'Investigator or Source', 'pdf', 'href formula', 'href',\n",
       "       'Case Number.1', 'Case Number.2', 'original order', 'Unnamed: 22',\n",
       "       'Unnamed: 23'],\n",
       "      dtype='object')"
      ]
     },
     "execution_count": 131,
     "metadata": {},
     "output_type": "execute_result"
    }
   ],
   "source": [
    "shark_bra.columns"
   ]
  },
  {
   "cell_type": "code",
   "execution_count": 132,
   "metadata": {
    "ExecuteTime": {
     "end_time": "2020-11-04T14:41:06.756662Z",
     "start_time": "2020-11-04T14:41:06.740743Z"
    },
    "cell_style": "split",
    "scrolled": true
   },
   "outputs": [
    {
     "data": {
      "text/plain": [
       "N          64\n",
       "Y          38\n",
       "UNKNOWN     2\n",
       "Name: Fatal (Y/N), dtype: int64"
      ]
     },
     "execution_count": 132,
     "metadata": {},
     "output_type": "execute_result"
    }
   ],
   "source": [
    "shark_bra['Fatal (Y/N)'].value_counts()"
   ]
  },
  {
   "cell_type": "code",
   "execution_count": 167,
   "metadata": {
    "ExecuteTime": {
     "end_time": "2020-11-04T15:24:48.728805Z",
     "start_time": "2020-11-04T15:24:48.708766Z"
    },
    "cell_style": "split"
   },
   "outputs": [
    {
     "data": {
      "text/plain": [
       "N          0.615385\n",
       "Y          0.365385\n",
       "UNKNOWN    0.019231\n",
       "Name: Fatal (Y/N), dtype: float64"
      ]
     },
     "execution_count": 167,
     "metadata": {},
     "output_type": "execute_result"
    }
   ],
   "source": [
    "shark_bra['Fatal (Y/N)'].value_counts(normalize=True)"
   ]
  },
  {
   "cell_type": "code",
   "execution_count": 133,
   "metadata": {
    "ExecuteTime": {
     "end_time": "2020-11-04T14:42:09.357713Z",
     "start_time": "2020-11-04T14:42:09.336013Z"
    },
    "cell_style": "split",
    "scrolled": true
   },
   "outputs": [
    {
     "data": {
      "text/plain": [
       "N          4293\n",
       "Y          1388\n",
       "UNKNOWN      71\n",
       " N            7\n",
       "2017          1\n",
       "N             1\n",
       "y             1\n",
       "M             1\n",
       "Name: Fatal (Y/N), dtype: int64"
      ]
     },
     "execution_count": 133,
     "metadata": {},
     "output_type": "execute_result"
    }
   ],
   "source": [
    "shark['Fatal (Y/N)'].value_counts()"
   ]
  },
  {
   "cell_type": "code",
   "execution_count": 168,
   "metadata": {
    "ExecuteTime": {
     "end_time": "2020-11-04T15:25:47.595747Z",
     "start_time": "2020-11-04T15:25:47.577877Z"
    },
    "cell_style": "split"
   },
   "outputs": [
    {
     "data": {
      "text/plain": [
       "N          0.744925\n",
       "Y          0.240847\n",
       "UNKNOWN    0.012320\n",
       " N         0.001215\n",
       "2017       0.000174\n",
       "N          0.000174\n",
       "y          0.000174\n",
       "M          0.000174\n",
       "Name: Fatal (Y/N), dtype: float64"
      ]
     },
     "execution_count": 168,
     "metadata": {},
     "output_type": "execute_result"
    }
   ],
   "source": [
    "shark['Fatal (Y/N)'].value_counts(normalize=True)"
   ]
  },
  {
   "cell_type": "code",
   "execution_count": 174,
   "metadata": {
    "ExecuteTime": {
     "end_time": "2020-11-04T17:24:42.879697Z",
     "start_time": "2020-11-04T17:24:42.796425Z"
    }
   },
   "outputs": [
    {
     "data": {
      "text/plain": [
       "USA                           2229\n",
       "AUSTRALIA                     1338\n",
       "SOUTH AFRICA                   579\n",
       "PAPUA NEW GUINEA               134\n",
       "NEW ZEALAND                    128\n",
       "                              ... \n",
       "ANDAMAN / NICOBAR ISLANDAS       1\n",
       "GREENLAND                        1\n",
       "WESTERN SAMOA                    1\n",
       "GUATEMALA                        1\n",
       "GABON                            1\n",
       "Name: Country, Length: 212, dtype: int64"
      ]
     },
     "execution_count": 174,
     "metadata": {},
     "output_type": "execute_result"
    }
   ],
   "source": [
    "shark['Country'].value_counts()"
   ]
  },
  {
   "cell_type": "code",
   "execution_count": 186,
   "metadata": {
    "ExecuteTime": {
     "end_time": "2020-11-04T17:40:52.112657Z",
     "start_time": "2020-11-04T17:40:52.091147Z"
    },
    "scrolled": true
   },
   "outputs": [
    {
     "data": {
      "text/plain": [
       "N          0.900049\n",
       "Y          0.091132\n",
       "UNKNOWN    0.008819\n",
       "Name: Fatal (Y/N), dtype: float64"
      ]
     },
     "execution_count": 186,
     "metadata": {},
     "output_type": "execute_result"
    }
   ],
   "source": [
    "shark.loc[shark['Country']=='USA']['Fatal (Y/N)'].value_counts(normalize=True)"
   ]
  },
  {
   "cell_type": "code",
   "execution_count": 187,
   "metadata": {
    "ExecuteTime": {
     "end_time": "2020-11-04T17:40:54.391831Z",
     "start_time": "2020-11-04T17:40:54.366689Z"
    },
    "scrolled": true
   },
   "outputs": [
    {
     "data": {
      "text/plain": [
       "N          0.746939\n",
       "Y          0.231020\n",
       "UNKNOWN    0.017143\n",
       " N         0.004082\n",
       "N          0.000816\n",
       "Name: Fatal (Y/N), dtype: float64"
      ]
     },
     "execution_count": 187,
     "metadata": {},
     "output_type": "execute_result"
    }
   ],
   "source": [
    "shark.loc[shark['Country']=='AUSTRALIA']['Fatal (Y/N)'].value_counts(normalize=True)"
   ]
  },
  {
   "cell_type": "code",
   "execution_count": 188,
   "metadata": {
    "ExecuteTime": {
     "end_time": "2020-11-04T17:40:57.232942Z",
     "start_time": "2020-11-04T17:40:57.211912Z"
    },
    "scrolled": true
   },
   "outputs": [
    {
     "data": {
      "text/plain": [
       "N          0.790291\n",
       "Y          0.205825\n",
       "UNKNOWN    0.003883\n",
       "Name: Fatal (Y/N), dtype: float64"
      ]
     },
     "execution_count": 188,
     "metadata": {},
     "output_type": "execute_result"
    }
   ],
   "source": [
    "shark.loc[shark['Country']=='SOUTH AFRICA']['Fatal (Y/N)'].value_counts(normalize=True)"
   ]
  },
  {
   "cell_type": "code",
   "execution_count": 189,
   "metadata": {
    "ExecuteTime": {
     "end_time": "2020-11-04T17:41:02.627838Z",
     "start_time": "2020-11-04T17:41:02.605217Z"
    },
    "scrolled": true
   },
   "outputs": [
    {
     "data": {
      "text/plain": [
       "N          0.553030\n",
       "Y          0.424242\n",
       "UNKNOWN    0.015152\n",
       " N         0.007576\n",
       "Name: Fatal (Y/N), dtype: float64"
      ]
     },
     "execution_count": 189,
     "metadata": {},
     "output_type": "execute_result"
    }
   ],
   "source": [
    "shark.loc[shark['Country']=='PAPUA NEW GUINEA']['Fatal (Y/N)'].value_counts(normalize=True)"
   ]
  },
  {
   "cell_type": "code",
   "execution_count": 190,
   "metadata": {
    "ExecuteTime": {
     "end_time": "2020-11-04T17:41:47.283988Z",
     "start_time": "2020-11-04T17:41:47.257271Z"
    },
    "scrolled": true
   },
   "outputs": [
    {
     "data": {
      "text/plain": [
       "N          0.784483\n",
       "Y          0.206897\n",
       "UNKNOWN    0.008621\n",
       "Name: Fatal (Y/N), dtype: float64"
      ]
     },
     "execution_count": 190,
     "metadata": {},
     "output_type": "execute_result"
    }
   ],
   "source": [
    "shark.loc[shark['Country']=='NEW ZEALAND']['Fatal (Y/N)'].value_counts(normalize=True)"
   ]
  },
  {
   "cell_type": "markdown",
   "metadata": {},
   "source": [
    "## Analisar se os ataques foram provocados ou espontâneos"
   ]
  },
  {
   "cell_type": "code",
   "execution_count": 135,
   "metadata": {
    "ExecuteTime": {
     "end_time": "2020-11-04T14:45:56.308644Z",
     "start_time": "2020-11-04T14:45:56.292244Z"
    },
    "cell_style": "split",
    "scrolled": false
   },
   "outputs": [
    {
     "data": {
      "text/plain": [
       "Unprovoked      92\n",
       "Invalid         10\n",
       "Provoked         5\n",
       "Sea Disaster     5\n",
       "Name: Type, dtype: int64"
      ]
     },
     "execution_count": 135,
     "metadata": {},
     "output_type": "execute_result"
    }
   ],
   "source": [
    "shark_bra['Type'].value_counts()"
   ]
  },
  {
   "cell_type": "code",
   "execution_count": 169,
   "metadata": {
    "ExecuteTime": {
     "end_time": "2020-11-04T15:29:11.129189Z",
     "start_time": "2020-11-04T15:29:11.106198Z"
    },
    "cell_style": "split"
   },
   "outputs": [
    {
     "data": {
      "text/plain": [
       "Unprovoked      0.821429\n",
       "Invalid         0.089286\n",
       "Provoked        0.044643\n",
       "Sea Disaster    0.044643\n",
       "Name: Type, dtype: float64"
      ]
     },
     "execution_count": 169,
     "metadata": {},
     "output_type": "execute_result"
    }
   ],
   "source": [
    "shark_bra['Type'].value_counts(normalize=True)"
   ]
  },
  {
   "cell_type": "markdown",
   "metadata": {},
   "source": [
    "# Criar um novo dataframe para os casos Brasileiros\n",
    "\n",
    "   Esse dataframe conterá apenas as informações utilixadas nessa análise\n",
    "   "
   ]
  },
  {
   "cell_type": "code",
   "execution_count": 138,
   "metadata": {
    "ExecuteTime": {
     "end_time": "2020-11-04T14:51:31.833111Z",
     "start_time": "2020-11-04T14:51:31.789991Z"
    }
   },
   "outputs": [
    {
     "data": {
      "text/html": [
       "<div>\n",
       "<style scoped>\n",
       "    .dataframe tbody tr th:only-of-type {\n",
       "        vertical-align: middle;\n",
       "    }\n",
       "\n",
       "    .dataframe tbody tr th {\n",
       "        vertical-align: top;\n",
       "    }\n",
       "\n",
       "    .dataframe thead th {\n",
       "        text-align: right;\n",
       "    }\n",
       "</style>\n",
       "<table border=\"1\" class=\"dataframe\">\n",
       "  <thead>\n",
       "    <tr style=\"text-align: right;\">\n",
       "      <th></th>\n",
       "      <th>Year</th>\n",
       "      <th>Type</th>\n",
       "      <th>Area</th>\n",
       "      <th>Location</th>\n",
       "      <th>Activity</th>\n",
       "      <th>Fatal (Y/N)</th>\n",
       "    </tr>\n",
       "  </thead>\n",
       "  <tbody>\n",
       "    <tr>\n",
       "      <th>6</th>\n",
       "      <td>2018.0</td>\n",
       "      <td>Unprovoked</td>\n",
       "      <td>Pernambuco</td>\n",
       "      <td>Piedade/Boa Viagem</td>\n",
       "      <td>Swimming</td>\n",
       "      <td>Y</td>\n",
       "    </tr>\n",
       "    <tr>\n",
       "      <th>27</th>\n",
       "      <td>2018.0</td>\n",
       "      <td>Unprovoked</td>\n",
       "      <td>Pernambuco</td>\n",
       "      <td>Piedade/Boa Viagem</td>\n",
       "      <td>Swimming</td>\n",
       "      <td>NaN</td>\n",
       "    </tr>\n",
       "    <tr>\n",
       "      <th>31</th>\n",
       "      <td>2018.0</td>\n",
       "      <td>Invalid</td>\n",
       "      <td>Alagoas</td>\n",
       "      <td>Praia de Sauaçuhy, Maceió</td>\n",
       "      <td>Fishing</td>\n",
       "      <td>N</td>\n",
       "    </tr>\n",
       "    <tr>\n",
       "      <th>44</th>\n",
       "      <td>2018.0</td>\n",
       "      <td>Invalid</td>\n",
       "      <td>Boi Island, Victoria</td>\n",
       "      <td>Espirito Santo</td>\n",
       "      <td>Cleaning fish</td>\n",
       "      <td>N</td>\n",
       "    </tr>\n",
       "    <tr>\n",
       "      <th>51</th>\n",
       "      <td>2018.0</td>\n",
       "      <td>Unprovoked</td>\n",
       "      <td>Fernando de Noronha</td>\n",
       "      <td>Conceicao Beach</td>\n",
       "      <td>Surfing</td>\n",
       "      <td>N</td>\n",
       "    </tr>\n",
       "    <tr>\n",
       "      <th>...</th>\n",
       "      <td>...</td>\n",
       "      <td>...</td>\n",
       "      <td>...</td>\n",
       "      <td>...</td>\n",
       "      <td>...</td>\n",
       "      <td>...</td>\n",
       "    </tr>\n",
       "    <tr>\n",
       "      <th>5122</th>\n",
       "      <td>1927.0</td>\n",
       "      <td>Sea Disaster</td>\n",
       "      <td>Porto Seguro</td>\n",
       "      <td>90 miles off Albrohos Island</td>\n",
       "      <td>Italian liner Principessa Mafalda sank</td>\n",
       "      <td>Y</td>\n",
       "    </tr>\n",
       "    <tr>\n",
       "      <th>5746</th>\n",
       "      <td>1887.0</td>\n",
       "      <td>Sea Disaster</td>\n",
       "      <td>Alagoas</td>\n",
       "      <td>Maceió</td>\n",
       "      <td>The passenger ship Kapuna was run down the ore...</td>\n",
       "      <td>Y</td>\n",
       "    </tr>\n",
       "    <tr>\n",
       "      <th>5777</th>\n",
       "      <td>1884.0</td>\n",
       "      <td>Unprovoked</td>\n",
       "      <td>NaN</td>\n",
       "      <td>Bahia</td>\n",
       "      <td>Fell overboard from the steamship Chala</td>\n",
       "      <td>Y</td>\n",
       "    </tr>\n",
       "    <tr>\n",
       "      <th>5848</th>\n",
       "      <td>1878.0</td>\n",
       "      <td>Sea Disaster</td>\n",
       "      <td>NaN</td>\n",
       "      <td>NA</td>\n",
       "      <td>Washed off raft</td>\n",
       "      <td>Y</td>\n",
       "    </tr>\n",
       "    <tr>\n",
       "      <th>6101</th>\n",
       "      <td>1826.0</td>\n",
       "      <td>Unprovoked</td>\n",
       "      <td>Paraiba</td>\n",
       "      <td>Paraiba</td>\n",
       "      <td>NaN</td>\n",
       "      <td>N</td>\n",
       "    </tr>\n",
       "  </tbody>\n",
       "</table>\n",
       "<p>112 rows × 6 columns</p>\n",
       "</div>"
      ],
      "text/plain": [
       "        Year          Type                  Area  \\\n",
       "6     2018.0    Unprovoked            Pernambuco   \n",
       "27    2018.0    Unprovoked            Pernambuco   \n",
       "31    2018.0       Invalid               Alagoas   \n",
       "44    2018.0       Invalid  Boi Island, Victoria   \n",
       "51    2018.0    Unprovoked   Fernando de Noronha   \n",
       "...      ...           ...                   ...   \n",
       "5122  1927.0  Sea Disaster          Porto Seguro   \n",
       "5746  1887.0  Sea Disaster               Alagoas   \n",
       "5777  1884.0    Unprovoked                   NaN   \n",
       "5848  1878.0  Sea Disaster                   NaN   \n",
       "6101  1826.0    Unprovoked               Paraiba   \n",
       "\n",
       "                          Location  \\\n",
       "6               Piedade/Boa Viagem   \n",
       "27              Piedade/Boa Viagem   \n",
       "31       Praia de Sauaçuhy, Maceió   \n",
       "44                  Espirito Santo   \n",
       "51                 Conceicao Beach   \n",
       "...                            ...   \n",
       "5122  90 miles off Albrohos Island   \n",
       "5746                        Maceió   \n",
       "5777                         Bahia   \n",
       "5848                            NA   \n",
       "6101                       Paraiba   \n",
       "\n",
       "                                               Activity Fatal (Y/N)  \n",
       "6                                              Swimming           Y  \n",
       "27                                             Swimming         NaN  \n",
       "31                                              Fishing           N  \n",
       "44                                        Cleaning fish           N  \n",
       "51                                              Surfing           N  \n",
       "...                                                 ...         ...  \n",
       "5122             Italian liner Principessa Mafalda sank           Y  \n",
       "5746  The passenger ship Kapuna was run down the ore...           Y  \n",
       "5777            Fell overboard from the steamship Chala           Y  \n",
       "5848                                    Washed off raft           Y  \n",
       "6101                                                NaN           N  \n",
       "\n",
       "[112 rows x 6 columns]"
      ]
     },
     "execution_count": 138,
     "metadata": {},
     "output_type": "execute_result"
    }
   ],
   "source": [
    "shark_bra_clean = shark_bra[[ 'Year', 'Type', 'Area', 'Location',\n",
    "       'Activity', 'Fatal (Y/N)', ]]\n",
    "shark_bra_clean"
   ]
  }
 ],
 "metadata": {
  "kernelspec": {
   "display_name": "Python 3",
   "language": "python",
   "name": "python3"
  },
  "language_info": {
   "codemirror_mode": {
    "name": "ipython",
    "version": 3
   },
   "file_extension": ".py",
   "mimetype": "text/x-python",
   "name": "python",
   "nbconvert_exporter": "python",
   "pygments_lexer": "ipython3",
   "version": "3.8.5"
  },
  "toc": {
   "base_numbering": 1,
   "nav_menu": {},
   "number_sections": true,
   "sideBar": true,
   "skip_h1_title": false,
   "title_cell": "Table of Contents",
   "title_sidebar": "Contents",
   "toc_cell": false,
   "toc_position": {},
   "toc_section_display": true,
   "toc_window_display": true
  },
  "varInspector": {
   "cols": {
    "lenName": 16,
    "lenType": 16,
    "lenVar": 40
   },
   "kernels_config": {
    "python": {
     "delete_cmd_postfix": "",
     "delete_cmd_prefix": "del ",
     "library": "var_list.py",
     "varRefreshCmd": "print(var_dic_list())"
    },
    "r": {
     "delete_cmd_postfix": ") ",
     "delete_cmd_prefix": "rm(",
     "library": "var_list.r",
     "varRefreshCmd": "cat(var_dic_list()) "
    }
   },
   "types_to_exclude": [
    "module",
    "function",
    "builtin_function_or_method",
    "instance",
    "_Feature"
   ],
   "window_display": false
  }
 },
 "nbformat": 4,
 "nbformat_minor": 4
}
